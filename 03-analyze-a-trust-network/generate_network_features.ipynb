{
 "cells": [
  {
   "cell_type": "markdown",
   "id": "a9f1c6ca",
   "metadata": {},
   "source": [
    "# Instructions\n",
    "\n",
    "- Import the NetworkX library.\n",
    "\n",
    "- Create a directed graph object using the NetworkX library and add all rows as edges to the graph. Attach the ratings to the edges as weight.\n",
    "\n",
    "- Print out the total node count in the network object.\n",
    "\n",
    "- Start generating features in DataFrame.\n",
    "    - Create a DataFrame as feature_df and add average ratings of targeted users as a first feature. In this DataFrame, each target user will be represented as a row, and they will be the instances of our clustering model in the next milestone.\n",
    "    - In a directed network (or, in other words, in a directed graph), the number of inbound edges to a node are called the in-degree and the number of outbound edges are called the out-degree of a node. In the previous step, we calculated the average ratings of a target user. Let’s call it the just average rating of a user. In this step, calculate the average of inbound users’ average ratings for each target user and add it as a second feature to the feature_df. In the case of no inbound users, assign 0.\n",
    "    - As third and fourth features, add the in-degree and out-degree of each target user to feature_df.\n",
    "    - As a final feature, calculate the page rank value of each target user and add it to the feature_df."
   ]
  },
  {
   "cell_type": "markdown",
   "id": "9ec79030",
   "metadata": {},
   "source": [
    "## Import libraries"
   ]
  },
  {
   "cell_type": "code",
   "execution_count": 1,
   "id": "d44f5f87",
   "metadata": {},
   "outputs": [],
   "source": [
    "import pandas as pd\n",
    "import seaborn as sb\n",
    "import networkx as nx\n",
    "from datetime import datetime\n",
    "import matplotlib.pyplot as plt"
   ]
  },
  {
   "cell_type": "markdown",
   "id": "b60b23f5",
   "metadata": {},
   "source": [
    "## Create a directed graph"
   ]
  },
  {
   "cell_type": "markdown",
   "id": "b5e7c388",
   "metadata": {},
   "source": [
    "### Load data"
   ]
  },
  {
   "cell_type": "code",
   "execution_count": 2,
   "id": "d62b4122",
   "metadata": {},
   "outputs": [
    {
     "data": {
      "text/html": [
       "<div>\n",
       "<style scoped>\n",
       "    .dataframe tbody tr th:only-of-type {\n",
       "        vertical-align: middle;\n",
       "    }\n",
       "\n",
       "    .dataframe tbody tr th {\n",
       "        vertical-align: top;\n",
       "    }\n",
       "\n",
       "    .dataframe thead th {\n",
       "        text-align: right;\n",
       "    }\n",
       "</style>\n",
       "<table border=\"1\" class=\"dataframe\">\n",
       "  <thead>\n",
       "    <tr style=\"text-align: right;\">\n",
       "      <th></th>\n",
       "      <th>source</th>\n",
       "      <th>target</th>\n",
       "      <th>rating</th>\n",
       "      <th>time_epoch</th>\n",
       "      <th>time</th>\n",
       "    </tr>\n",
       "  </thead>\n",
       "  <tbody>\n",
       "    <tr>\n",
       "      <th>0</th>\n",
       "      <td>6</td>\n",
       "      <td>2</td>\n",
       "      <td>4</td>\n",
       "      <td>1.289242e+09</td>\n",
       "      <td>2010-11-08 19:45:11.728360</td>\n",
       "    </tr>\n",
       "    <tr>\n",
       "      <th>1</th>\n",
       "      <td>6</td>\n",
       "      <td>5</td>\n",
       "      <td>2</td>\n",
       "      <td>1.289242e+09</td>\n",
       "      <td>2010-11-08 19:45:41.533780</td>\n",
       "    </tr>\n",
       "    <tr>\n",
       "      <th>2</th>\n",
       "      <td>1</td>\n",
       "      <td>15</td>\n",
       "      <td>1</td>\n",
       "      <td>1.289243e+09</td>\n",
       "      <td>2010-11-08 20:05:40.390490</td>\n",
       "    </tr>\n",
       "    <tr>\n",
       "      <th>3</th>\n",
       "      <td>4</td>\n",
       "      <td>3</td>\n",
       "      <td>7</td>\n",
       "      <td>1.289245e+09</td>\n",
       "      <td>2010-11-08 20:41:17.369750</td>\n",
       "    </tr>\n",
       "    <tr>\n",
       "      <th>4</th>\n",
       "      <td>13</td>\n",
       "      <td>16</td>\n",
       "      <td>8</td>\n",
       "      <td>1.289254e+09</td>\n",
       "      <td>2010-11-08 23:10:54.447460</td>\n",
       "    </tr>\n",
       "  </tbody>\n",
       "</table>\n",
       "</div>"
      ],
      "text/plain": [
       "   source  target  rating    time_epoch                       time\n",
       "0       6       2       4  1.289242e+09 2010-11-08 19:45:11.728360\n",
       "1       6       5       2  1.289242e+09 2010-11-08 19:45:41.533780\n",
       "2       1      15       1  1.289243e+09 2010-11-08 20:05:40.390490\n",
       "3       4       3       7  1.289245e+09 2010-11-08 20:41:17.369750\n",
       "4      13      16       8  1.289254e+09 2010-11-08 23:10:54.447460"
      ]
     },
     "execution_count": 2,
     "metadata": {},
     "output_type": "execute_result"
    }
   ],
   "source": [
    "df = (\n",
    "    pd\n",
    "    .read_csv('soc-sign-bitcoinotc.csv', names=['source', 'target', 'rating', 'time_epoch'])\n",
    "    .assign(time=lambda df: df.time_epoch.apply(datetime.fromtimestamp))\n",
    ")\n",
    "df.head()"
   ]
  },
  {
   "cell_type": "markdown",
   "id": "daccc405",
   "metadata": {},
   "source": [
    "### Prepare data to create graph"
   ]
  },
  {
   "cell_type": "markdown",
   "id": "c8a818a2",
   "metadata": {},
   "source": [
    "#### Nodes"
   ]
  },
  {
   "cell_type": "code",
   "execution_count": 3,
   "id": "6cb3f376",
   "metadata": {},
   "outputs": [
    {
     "data": {
      "text/plain": [
       "(4814, 5858)"
      ]
     },
     "execution_count": 3,
     "metadata": {},
     "output_type": "execute_result"
    }
   ],
   "source": [
    "len(df.source.unique().tolist()), len(df.target.unique().tolist())"
   ]
  },
  {
   "cell_type": "code",
   "execution_count": 4,
   "id": "b81908dc",
   "metadata": {},
   "outputs": [
    {
     "data": {
      "text/plain": [
       "5881"
      ]
     },
     "execution_count": 4,
     "metadata": {},
     "output_type": "execute_result"
    }
   ],
   "source": [
    "nodes = set(df.source.unique().tolist() + df.target.unique().tolist())\n",
    "len(nodes)"
   ]
  },
  {
   "cell_type": "markdown",
   "id": "36ebef9f",
   "metadata": {},
   "source": [
    "#### Edges"
   ]
  },
  {
   "cell_type": "code",
   "execution_count": 5,
   "id": "840502c1",
   "metadata": {},
   "outputs": [
    {
     "data": {
      "text/plain": [
       "rec.array([(6, 2, {'rating': 4}), (6, 5, {'rating': 2})],\n",
       "          dtype=[('source', '<i8'), ('target', '<i8'), ('rating', 'O')])"
      ]
     },
     "execution_count": 5,
     "metadata": {},
     "output_type": "execute_result"
    }
   ],
   "source": [
    "edges = (\n",
    "    df\n",
    "    [['source', 'target', 'rating']]\n",
    "    .assign(rating=lambda df: df.rating.apply(lambda x: {'rating': x}))\n",
    "    .to_records(index=False)\n",
    ")\n",
    "edges[:2]"
   ]
  },
  {
   "cell_type": "code",
   "execution_count": 6,
   "id": "d0258bea",
   "metadata": {},
   "outputs": [
    {
     "data": {
      "text/plain": [
       "35592"
      ]
     },
     "execution_count": 6,
     "metadata": {},
     "output_type": "execute_result"
    }
   ],
   "source": [
    "len(edges)"
   ]
  },
  {
   "cell_type": "code",
   "execution_count": 7,
   "id": "d072e2b0",
   "metadata": {},
   "outputs": [],
   "source": [
    "# TODO: use this instead of creating the nodes and edges lists by hand\n",
    "# nx.from_pandas_edgelist(df, source='source', target='target', edge_attr='rating')"
   ]
  },
  {
   "cell_type": "markdown",
   "id": "d7d05e9a",
   "metadata": {},
   "source": [
    "### Build the directed graph"
   ]
  },
  {
   "cell_type": "code",
   "execution_count": 8,
   "id": "953d5c50",
   "metadata": {},
   "outputs": [],
   "source": [
    "G = nx.DiGraph()\n",
    "\n",
    "G.add_nodes_from(nodes)\n",
    "G.add_edges_from(edges)"
   ]
  },
  {
   "cell_type": "code",
   "execution_count": 9,
   "id": "36987258",
   "metadata": {},
   "outputs": [
    {
     "data": {
      "text/plain": [
       "5881"
      ]
     },
     "execution_count": 9,
     "metadata": {},
     "output_type": "execute_result"
    }
   ],
   "source": [
    "len(G.nodes)"
   ]
  },
  {
   "cell_type": "markdown",
   "id": "7f95c0e3",
   "metadata": {},
   "source": [
    "## Create features"
   ]
  },
  {
   "cell_type": "code",
   "execution_count": 10,
   "id": "9a968059",
   "metadata": {},
   "outputs": [],
   "source": [
    "feature_df = df.copy()"
   ]
  },
  {
   "cell_type": "markdown",
   "id": "7459ae49",
   "metadata": {},
   "source": [
    "### Average rating for each target user"
   ]
  },
  {
   "cell_type": "code",
   "execution_count": 11,
   "id": "ec4e1efb",
   "metadata": {},
   "outputs": [
    {
     "data": {
      "text/html": [
       "<div>\n",
       "<style scoped>\n",
       "    .dataframe tbody tr th:only-of-type {\n",
       "        vertical-align: middle;\n",
       "    }\n",
       "\n",
       "    .dataframe tbody tr th {\n",
       "        vertical-align: top;\n",
       "    }\n",
       "\n",
       "    .dataframe thead th {\n",
       "        text-align: right;\n",
       "    }\n",
       "</style>\n",
       "<table border=\"1\" class=\"dataframe\">\n",
       "  <thead>\n",
       "    <tr style=\"text-align: right;\">\n",
       "      <th></th>\n",
       "      <th>target</th>\n",
       "      <th>avg_rating</th>\n",
       "    </tr>\n",
       "  </thead>\n",
       "  <tbody>\n",
       "    <tr>\n",
       "      <th>0</th>\n",
       "      <td>1</td>\n",
       "      <td>3.544248</td>\n",
       "    </tr>\n",
       "    <tr>\n",
       "      <th>1</th>\n",
       "      <td>2</td>\n",
       "      <td>3.000000</td>\n",
       "    </tr>\n",
       "    <tr>\n",
       "      <th>2</th>\n",
       "      <td>3</td>\n",
       "      <td>-0.285714</td>\n",
       "    </tr>\n",
       "    <tr>\n",
       "      <th>3</th>\n",
       "      <td>4</td>\n",
       "      <td>3.111111</td>\n",
       "    </tr>\n",
       "    <tr>\n",
       "      <th>4</th>\n",
       "      <td>5</td>\n",
       "      <td>2.333333</td>\n",
       "    </tr>\n",
       "  </tbody>\n",
       "</table>\n",
       "</div>"
      ],
      "text/plain": [
       "   target  avg_rating\n",
       "0       1    3.544248\n",
       "1       2    3.000000\n",
       "2       3   -0.285714\n",
       "3       4    3.111111\n",
       "4       5    2.333333"
      ]
     },
     "execution_count": 11,
     "metadata": {},
     "output_type": "execute_result"
    }
   ],
   "source": [
    "feature_df = (\n",
    "    feature_df\n",
    "    .groupby('target')\n",
    "    [['rating']]\n",
    "    .mean()\n",
    "    .reset_index()\n",
    "    .rename(columns={'rating': 'avg_rating'})\n",
    ")\n",
    "feature_df.head()"
   ]
  },
  {
   "cell_type": "markdown",
   "id": "2e4027d5",
   "metadata": {},
   "source": [
    "### Avg. of ratings for each inbound user for each target user\n",
    "In a directed network (or, in other words, in a directed graph), the number of inbound edges to a node are called the in-degree and the number of outbound edges are called the out-degree of a node. In the previous step, we calculated the average ratings of a target user. Let’s call it the just average rating of a user. In this step, calculate the average of inbound users’ average ratings for each target user and add it as a second feature to the feature_df. In the case of no inbound users, assign 0."
   ]
  },
  {
   "cell_type": "markdown",
   "id": "7e1e76fe",
   "metadata": {},
   "source": [
    "#### Add avg. ratings as edge attribute"
   ]
  },
  {
   "cell_type": "code",
   "execution_count": 12,
   "id": "1deeef60",
   "metadata": {},
   "outputs": [],
   "source": [
    "nodes_with_attributes = (\n",
    "    feature_df\n",
    "    .assign(attr=lambda df: df.avg_rating.apply(lambda x: {'avg_rating': x}))\n",
    "    .drop(columns='avg_rating')\n",
    "    .to_records(index=False)\n",
    ")"
   ]
  },
  {
   "cell_type": "code",
   "execution_count": 13,
   "id": "114759c6",
   "metadata": {},
   "outputs": [],
   "source": [
    "# this will only update the already existing edges with the attribute information\n",
    "G.add_nodes_from(nodes_with_attributes)"
   ]
  },
  {
   "cell_type": "markdown",
   "id": "984a34a8",
   "metadata": {},
   "source": [
    "#### Calculate the new feature"
   ]
  },
  {
   "cell_type": "code",
   "execution_count": null,
   "id": "a5eabed7",
   "metadata": {},
   "outputs": [],
   "source": [
    "# TODO: check if there's another way to implement this using some feature from NetworkX\n",
    "#       it feels like there should be a more straightforward way to do something like this"
   ]
  },
  {
   "cell_type": "code",
   "execution_count": 14,
   "id": "aa7697cc",
   "metadata": {},
   "outputs": [],
   "source": [
    "def get_avg_rating_of_all_predecessors(node, graph, feature_df):\n",
    "    predecessors = list(graph.predecessors(node))\n",
    "    predecessors_info = feature_df[feature_df.target.isin(predecessors)]['avg_rating']\n",
    "\n",
    "    avg_predecessor_avg_rating = 0  # initialize with 0 which is the value when there are no inbound users\n",
    "    if len(predecessors_info):\n",
    "        avg_predecessor_avg_rating = (\n",
    "            predecessors_info\n",
    "            .groupby(lambda x: 0)\n",
    "            .mean()\n",
    "            .iloc[0]\n",
    "        )\n",
    "        \n",
    "    return avg_predecessor_avg_rating"
   ]
  },
  {
   "cell_type": "code",
   "execution_count": 15,
   "id": "30a121b3",
   "metadata": {},
   "outputs": [
    {
     "name": "stdout",
     "output_type": "stream",
     "text": [
      "CPU times: user 6.3 s, sys: 27.6 ms, total: 6.33 s\n",
      "Wall time: 6.44 s\n"
     ]
    },
    {
     "data": {
      "text/html": [
       "<div>\n",
       "<style scoped>\n",
       "    .dataframe tbody tr th:only-of-type {\n",
       "        vertical-align: middle;\n",
       "    }\n",
       "\n",
       "    .dataframe tbody tr th {\n",
       "        vertical-align: top;\n",
       "    }\n",
       "\n",
       "    .dataframe thead th {\n",
       "        text-align: right;\n",
       "    }\n",
       "</style>\n",
       "<table border=\"1\" class=\"dataframe\">\n",
       "  <thead>\n",
       "    <tr style=\"text-align: right;\">\n",
       "      <th></th>\n",
       "      <th>target</th>\n",
       "      <th>avg_rating</th>\n",
       "      <th>avg_rating_inbound_users</th>\n",
       "    </tr>\n",
       "  </thead>\n",
       "  <tbody>\n",
       "    <tr>\n",
       "      <th>0</th>\n",
       "      <td>1</td>\n",
       "      <td>3.544248</td>\n",
       "      <td>1.640546</td>\n",
       "    </tr>\n",
       "    <tr>\n",
       "      <th>1</th>\n",
       "      <td>2</td>\n",
       "      <td>3.000000</td>\n",
       "      <td>1.735650</td>\n",
       "    </tr>\n",
       "    <tr>\n",
       "      <th>2</th>\n",
       "      <td>3</td>\n",
       "      <td>-0.285714</td>\n",
       "      <td>2.819381</td>\n",
       "    </tr>\n",
       "    <tr>\n",
       "      <th>3</th>\n",
       "      <td>4</td>\n",
       "      <td>3.111111</td>\n",
       "      <td>1.812079</td>\n",
       "    </tr>\n",
       "    <tr>\n",
       "      <th>4</th>\n",
       "      <td>5</td>\n",
       "      <td>2.333333</td>\n",
       "      <td>2.591068</td>\n",
       "    </tr>\n",
       "  </tbody>\n",
       "</table>\n",
       "</div>"
      ],
      "text/plain": [
       "   target  avg_rating  avg_rating_inbound_users\n",
       "0       1    3.544248                  1.640546\n",
       "1       2    3.000000                  1.735650\n",
       "2       3   -0.285714                  2.819381\n",
       "3       4    3.111111                  1.812079\n",
       "4       5    2.333333                  2.591068"
      ]
     },
     "execution_count": 15,
     "metadata": {},
     "output_type": "execute_result"
    }
   ],
   "source": [
    "%%time\n",
    "avg_rating_inbound_users = feature_df.target.apply(\n",
    "    lambda node: get_avg_rating_of_all_predecessors(node, G, feature_df))\n",
    "feature_df['avg_rating_inbound_users'] = avg_rating_inbound_users\n",
    "\n",
    "feature_df.head()"
   ]
  },
  {
   "cell_type": "markdown",
   "id": "ecfed7f7",
   "metadata": {},
   "source": [
    "### Add the in-degree and out-degree as new features"
   ]
  },
  {
   "cell_type": "code",
   "execution_count": 16,
   "id": "0ce541bc",
   "metadata": {},
   "outputs": [],
   "source": [
    "feature_df['in_degree'] = feature_df.target.apply(G.in_degree)\n",
    "feature_df['out_degree'] = feature_df.target.apply(G.out_degree)"
   ]
  },
  {
   "cell_type": "code",
   "execution_count": 17,
   "id": "1fd043bb",
   "metadata": {},
   "outputs": [
    {
     "data": {
      "text/html": [
       "<div>\n",
       "<style scoped>\n",
       "    .dataframe tbody tr th:only-of-type {\n",
       "        vertical-align: middle;\n",
       "    }\n",
       "\n",
       "    .dataframe tbody tr th {\n",
       "        vertical-align: top;\n",
       "    }\n",
       "\n",
       "    .dataframe thead th {\n",
       "        text-align: right;\n",
       "    }\n",
       "</style>\n",
       "<table border=\"1\" class=\"dataframe\">\n",
       "  <thead>\n",
       "    <tr style=\"text-align: right;\">\n",
       "      <th></th>\n",
       "      <th>target</th>\n",
       "      <th>avg_rating</th>\n",
       "      <th>avg_rating_inbound_users</th>\n",
       "      <th>in_degree</th>\n",
       "      <th>out_degree</th>\n",
       "    </tr>\n",
       "  </thead>\n",
       "  <tbody>\n",
       "    <tr>\n",
       "      <th>0</th>\n",
       "      <td>1</td>\n",
       "      <td>3.544248</td>\n",
       "      <td>1.640546</td>\n",
       "      <td>226</td>\n",
       "      <td>215</td>\n",
       "    </tr>\n",
       "    <tr>\n",
       "      <th>1</th>\n",
       "      <td>2</td>\n",
       "      <td>3.000000</td>\n",
       "      <td>1.735650</td>\n",
       "      <td>41</td>\n",
       "      <td>45</td>\n",
       "    </tr>\n",
       "    <tr>\n",
       "      <th>2</th>\n",
       "      <td>3</td>\n",
       "      <td>-0.285714</td>\n",
       "      <td>2.819381</td>\n",
       "      <td>21</td>\n",
       "      <td>0</td>\n",
       "    </tr>\n",
       "    <tr>\n",
       "      <th>3</th>\n",
       "      <td>4</td>\n",
       "      <td>3.111111</td>\n",
       "      <td>1.812079</td>\n",
       "      <td>54</td>\n",
       "      <td>63</td>\n",
       "    </tr>\n",
       "    <tr>\n",
       "      <th>4</th>\n",
       "      <td>5</td>\n",
       "      <td>2.333333</td>\n",
       "      <td>2.591068</td>\n",
       "      <td>3</td>\n",
       "      <td>3</td>\n",
       "    </tr>\n",
       "  </tbody>\n",
       "</table>\n",
       "</div>"
      ],
      "text/plain": [
       "   target  avg_rating  avg_rating_inbound_users  in_degree  out_degree\n",
       "0       1    3.544248                  1.640546        226         215\n",
       "1       2    3.000000                  1.735650         41          45\n",
       "2       3   -0.285714                  2.819381         21           0\n",
       "3       4    3.111111                  1.812079         54          63\n",
       "4       5    2.333333                  2.591068          3           3"
      ]
     },
     "execution_count": 17,
     "metadata": {},
     "output_type": "execute_result"
    }
   ],
   "source": [
    "feature_df.head()"
   ]
  },
  {
   "cell_type": "markdown",
   "id": "30450542",
   "metadata": {},
   "source": [
    "### Calculate the page rank value as a new feature"
   ]
  },
  {
   "cell_type": "code",
   "execution_count": 18,
   "id": "3004241d",
   "metadata": {},
   "outputs": [
    {
     "name": "stdout",
     "output_type": "stream",
     "text": [
      "CPU times: user 2min 2s, sys: 1.52 s, total: 2min 3s\n",
      "Wall time: 1min 13s\n"
     ]
    }
   ],
   "source": [
    "%%time\n",
    "pageranks = nx.pagerank_numpy(G)"
   ]
  },
  {
   "cell_type": "code",
   "execution_count": 19,
   "id": "5f798c44",
   "metadata": {},
   "outputs": [],
   "source": [
    "feature_df['page_rank'] = feature_df.target.apply(lambda x: pageranks[x])"
   ]
  },
  {
   "cell_type": "code",
   "execution_count": 20,
   "id": "06c0137e",
   "metadata": {},
   "outputs": [
    {
     "data": {
      "text/html": [
       "<div>\n",
       "<style scoped>\n",
       "    .dataframe tbody tr th:only-of-type {\n",
       "        vertical-align: middle;\n",
       "    }\n",
       "\n",
       "    .dataframe tbody tr th {\n",
       "        vertical-align: top;\n",
       "    }\n",
       "\n",
       "    .dataframe thead th {\n",
       "        text-align: right;\n",
       "    }\n",
       "</style>\n",
       "<table border=\"1\" class=\"dataframe\">\n",
       "  <thead>\n",
       "    <tr style=\"text-align: right;\">\n",
       "      <th></th>\n",
       "      <th>target</th>\n",
       "      <th>avg_rating</th>\n",
       "      <th>avg_rating_inbound_users</th>\n",
       "      <th>in_degree</th>\n",
       "      <th>out_degree</th>\n",
       "      <th>page_rank</th>\n",
       "    </tr>\n",
       "  </thead>\n",
       "  <tbody>\n",
       "    <tr>\n",
       "      <th>0</th>\n",
       "      <td>1</td>\n",
       "      <td>3.544248</td>\n",
       "      <td>1.640546</td>\n",
       "      <td>226</td>\n",
       "      <td>215</td>\n",
       "      <td>0.005028</td>\n",
       "    </tr>\n",
       "    <tr>\n",
       "      <th>1</th>\n",
       "      <td>2</td>\n",
       "      <td>3.000000</td>\n",
       "      <td>1.735650</td>\n",
       "      <td>41</td>\n",
       "      <td>45</td>\n",
       "      <td>0.000978</td>\n",
       "    </tr>\n",
       "    <tr>\n",
       "      <th>2</th>\n",
       "      <td>3</td>\n",
       "      <td>-0.285714</td>\n",
       "      <td>2.819381</td>\n",
       "      <td>21</td>\n",
       "      <td>0</td>\n",
       "      <td>0.000382</td>\n",
       "    </tr>\n",
       "    <tr>\n",
       "      <th>3</th>\n",
       "      <td>4</td>\n",
       "      <td>3.111111</td>\n",
       "      <td>1.812079</td>\n",
       "      <td>54</td>\n",
       "      <td>63</td>\n",
       "      <td>0.001289</td>\n",
       "    </tr>\n",
       "    <tr>\n",
       "      <th>4</th>\n",
       "      <td>5</td>\n",
       "      <td>2.333333</td>\n",
       "      <td>2.591068</td>\n",
       "      <td>3</td>\n",
       "      <td>3</td>\n",
       "      <td>0.000093</td>\n",
       "    </tr>\n",
       "  </tbody>\n",
       "</table>\n",
       "</div>"
      ],
      "text/plain": [
       "   target  avg_rating  avg_rating_inbound_users  in_degree  out_degree  \\\n",
       "0       1    3.544248                  1.640546        226         215   \n",
       "1       2    3.000000                  1.735650         41          45   \n",
       "2       3   -0.285714                  2.819381         21           0   \n",
       "3       4    3.111111                  1.812079         54          63   \n",
       "4       5    2.333333                  2.591068          3           3   \n",
       "\n",
       "   page_rank  \n",
       "0   0.005028  \n",
       "1   0.000978  \n",
       "2   0.000382  \n",
       "3   0.001289  \n",
       "4   0.000093  "
      ]
     },
     "execution_count": 20,
     "metadata": {},
     "output_type": "execute_result"
    }
   ],
   "source": [
    "feature_df.head()"
   ]
  },
  {
   "cell_type": "code",
   "execution_count": null,
   "id": "c9a39578",
   "metadata": {},
   "outputs": [],
   "source": []
  },
  {
   "cell_type": "markdown",
   "id": "8c330c99",
   "metadata": {},
   "source": [
    "## Describe "
   ]
  },
  {
   "cell_type": "code",
   "execution_count": 21,
   "id": "d9ab7dd8",
   "metadata": {},
   "outputs": [
    {
     "data": {
      "text/html": [
       "<div>\n",
       "<style scoped>\n",
       "    .dataframe tbody tr th:only-of-type {\n",
       "        vertical-align: middle;\n",
       "    }\n",
       "\n",
       "    .dataframe tbody tr th {\n",
       "        vertical-align: top;\n",
       "    }\n",
       "\n",
       "    .dataframe thead th {\n",
       "        text-align: right;\n",
       "    }\n",
       "</style>\n",
       "<table border=\"1\" class=\"dataframe\">\n",
       "  <thead>\n",
       "    <tr style=\"text-align: right;\">\n",
       "      <th></th>\n",
       "      <th>target</th>\n",
       "      <th>avg_rating</th>\n",
       "      <th>avg_rating_inbound_users</th>\n",
       "      <th>in_degree</th>\n",
       "      <th>out_degree</th>\n",
       "      <th>page_rank</th>\n",
       "    </tr>\n",
       "  </thead>\n",
       "  <tbody>\n",
       "    <tr>\n",
       "      <th>count</th>\n",
       "      <td>5858.000000</td>\n",
       "      <td>5858.000000</td>\n",
       "      <td>5858.000000</td>\n",
       "      <td>5858.000000</td>\n",
       "      <td>5858.000000</td>\n",
       "      <td>5858.000000</td>\n",
       "    </tr>\n",
       "    <tr>\n",
       "      <th>mean</th>\n",
       "      <td>3003.711676</td>\n",
       "      <td>0.728609</td>\n",
       "      <td>1.497921</td>\n",
       "      <td>6.075794</td>\n",
       "      <td>6.067771</td>\n",
       "      <td>0.000171</td>\n",
       "    </tr>\n",
       "    <tr>\n",
       "      <th>std</th>\n",
       "      <td>1721.680985</td>\n",
       "      <td>2.827039</td>\n",
       "      <td>1.250479</td>\n",
       "      <td>17.705675</td>\n",
       "      <td>21.126901</td>\n",
       "      <td>0.000421</td>\n",
       "    </tr>\n",
       "    <tr>\n",
       "      <th>min</th>\n",
       "      <td>1.000000</td>\n",
       "      <td>-10.000000</td>\n",
       "      <td>-10.000000</td>\n",
       "      <td>1.000000</td>\n",
       "      <td>0.000000</td>\n",
       "      <td>0.000037</td>\n",
       "    </tr>\n",
       "    <tr>\n",
       "      <th>25%</th>\n",
       "      <td>1509.250000</td>\n",
       "      <td>1.000000</td>\n",
       "      <td>1.222598</td>\n",
       "      <td>1.000000</td>\n",
       "      <td>1.000000</td>\n",
       "      <td>0.000055</td>\n",
       "    </tr>\n",
       "    <tr>\n",
       "      <th>50%</th>\n",
       "      <td>2998.500000</td>\n",
       "      <td>1.000000</td>\n",
       "      <td>1.644370</td>\n",
       "      <td>2.000000</td>\n",
       "      <td>2.000000</td>\n",
       "      <td>0.000076</td>\n",
       "    </tr>\n",
       "    <tr>\n",
       "      <th>75%</th>\n",
       "      <td>4494.750000</td>\n",
       "      <td>1.700000</td>\n",
       "      <td>2.021590</td>\n",
       "      <td>5.000000</td>\n",
       "      <td>4.000000</td>\n",
       "      <td>0.000143</td>\n",
       "    </tr>\n",
       "    <tr>\n",
       "      <th>max</th>\n",
       "      <td>6005.000000</td>\n",
       "      <td>10.000000</td>\n",
       "      <td>8.000000</td>\n",
       "      <td>535.000000</td>\n",
       "      <td>763.000000</td>\n",
       "      <td>0.015023</td>\n",
       "    </tr>\n",
       "  </tbody>\n",
       "</table>\n",
       "</div>"
      ],
      "text/plain": [
       "            target   avg_rating  avg_rating_inbound_users    in_degree  \\\n",
       "count  5858.000000  5858.000000               5858.000000  5858.000000   \n",
       "mean   3003.711676     0.728609                  1.497921     6.075794   \n",
       "std    1721.680985     2.827039                  1.250479    17.705675   \n",
       "min       1.000000   -10.000000                -10.000000     1.000000   \n",
       "25%    1509.250000     1.000000                  1.222598     1.000000   \n",
       "50%    2998.500000     1.000000                  1.644370     2.000000   \n",
       "75%    4494.750000     1.700000                  2.021590     5.000000   \n",
       "max    6005.000000    10.000000                  8.000000   535.000000   \n",
       "\n",
       "        out_degree    page_rank  \n",
       "count  5858.000000  5858.000000  \n",
       "mean      6.067771     0.000171  \n",
       "std      21.126901     0.000421  \n",
       "min       0.000000     0.000037  \n",
       "25%       1.000000     0.000055  \n",
       "50%       2.000000     0.000076  \n",
       "75%       4.000000     0.000143  \n",
       "max     763.000000     0.015023  "
      ]
     },
     "execution_count": 21,
     "metadata": {},
     "output_type": "execute_result"
    }
   ],
   "source": [
    "feature_df.describe()"
   ]
  },
  {
   "cell_type": "code",
   "execution_count": null,
   "id": "a1d67358",
   "metadata": {},
   "outputs": [],
   "source": []
  },
  {
   "cell_type": "code",
   "execution_count": null,
   "id": "1776a13f",
   "metadata": {},
   "outputs": [],
   "source": []
  },
  {
   "cell_type": "code",
   "execution_count": null,
   "id": "22144a9f",
   "metadata": {},
   "outputs": [],
   "source": []
  },
  {
   "cell_type": "code",
   "execution_count": null,
   "id": "719c2a4c",
   "metadata": {},
   "outputs": [],
   "source": []
  },
  {
   "cell_type": "code",
   "execution_count": null,
   "id": "ea3fc626",
   "metadata": {},
   "outputs": [],
   "source": []
  },
  {
   "cell_type": "code",
   "execution_count": null,
   "id": "c13444dc",
   "metadata": {},
   "outputs": [],
   "source": []
  },
  {
   "cell_type": "code",
   "execution_count": null,
   "id": "feac8748",
   "metadata": {},
   "outputs": [],
   "source": []
  },
  {
   "cell_type": "code",
   "execution_count": null,
   "id": "50aa0fcc",
   "metadata": {},
   "outputs": [],
   "source": []
  },
  {
   "cell_type": "code",
   "execution_count": null,
   "id": "16e20802",
   "metadata": {},
   "outputs": [],
   "source": []
  },
  {
   "cell_type": "code",
   "execution_count": null,
   "id": "1cf07b18",
   "metadata": {},
   "outputs": [],
   "source": []
  },
  {
   "cell_type": "code",
   "execution_count": null,
   "id": "c7c6f02c",
   "metadata": {},
   "outputs": [],
   "source": []
  },
  {
   "cell_type": "code",
   "execution_count": null,
   "id": "b9a03786",
   "metadata": {},
   "outputs": [],
   "source": []
  },
  {
   "cell_type": "code",
   "execution_count": null,
   "id": "741cdaf1",
   "metadata": {},
   "outputs": [],
   "source": []
  }
 ],
 "metadata": {
  "kernelspec": {
   "display_name": "Python 3",
   "language": "python",
   "name": "python3"
  },
  "language_info": {
   "codemirror_mode": {
    "name": "ipython",
    "version": 3
   },
   "file_extension": ".py",
   "mimetype": "text/x-python",
   "name": "python",
   "nbconvert_exporter": "python",
   "pygments_lexer": "ipython3",
   "version": "3.8.8"
  }
 },
 "nbformat": 4,
 "nbformat_minor": 5
}
